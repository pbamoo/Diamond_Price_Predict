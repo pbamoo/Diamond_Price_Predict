{
 "cells": [
  {
   "cell_type": "code",
   "execution_count": null,
   "metadata": {},
   "outputs": [],
   "source": [
    "### Building a Basic Interactive App using Dash & Plotly\n",
    "Dash is a Python framework for building web applications quickly and easily, without knowing JavaScript, CSS, HTML, server-side programming, or related technologies that belong to the web development world. \n",
    "\n",
    "Plotly is a visualization library produced by the same company that developed Dash. These two technologies are meant to be used together.\n",
    "\n",
    "Steps:\n",
    "1. Make the necessary imports\n",
    "2. Import the dataset\n",
    "3. Create the app instance\n",
    "4. Import an external CSS file\n",
    "5. Create the inputs for interactivity\n",
    "6. Create the layout\n",
    "7. Create the callback function for interactivity\n",
    "8. Run the server"
   ]
  },
  {
   "cell_type": "code",
   "execution_count": null,
   "metadata": {},
   "outputs": [],
   "source": [
    "#import necessary libraries\n",
    "import dash\n",
    "import dash_core_components as dcc\n",
    "import dash_html_components as html\n",
    "from dash.dependencies import Input, Output\n",
    "import plotly.graph_objs as go\n",
    "import pandas as pd\n",
    "import os\n",
    "import warnings\n",
    "warnings.filterwarnings('ignore')"
   ]
  },
  {
   "cell_type": "code",
   "execution_count": null,
   "metadata": {},
   "outputs": [],
   "source": [
    "#Import dataset\n",
    "df = pd.read_csv('../Data/diamonds.csv')"
   ]
  },
  {
   "cell_type": "code",
   "execution_count": null,
   "metadata": {},
   "outputs": [],
   "source": [
    "#create the app instance\n",
    "app = dash.Dash(__name__)"
   ]
  },
  {
   "cell_type": "code",
   "execution_count": null,
   "metadata": {},
   "outputs": [],
   "source": [
    "#import an external CSS file : for our app to look a bit nicer\n",
    "app.css.append_css({'external_url': 'https://codepen.io/chriddyp/pen/bWLwgP.css'})"
   ]
  },
  {
   "cell_type": "code",
   "execution_count": null,
   "metadata": {},
   "outputs": [],
   "source": [
    "# Create the inputs for interactivity using Dropdown the the dash_core_components library\n",
    "\n",
    "#create the list of options\n",
    "numerical_features = ['price','carat','depth','table','x','y','z']\n",
    "options_dropdown = [{'label':x.upper(), 'value':x} for x in numerical_features]\n",
    "\n",
    "#create the dropdown for the variable along the x-axis\n",
    "dd_x_var = dcc.Dropdown(id='x-var', options = options_dropdown, value = 'carat')\n",
    "div_x_var = html.Div(children=[html.H4('Variable for x axis: '), dd_x_var], className=\"six columns\")\n",
    "\n",
    "#create the dropdown for the variable along the x-axis\n",
    "dd_y_var = dcc.Dropdown(id='y-var', options = options_dropdown, value = 'price') \n",
    "div_y_var = html.Div(children=[html.H4('Variable for y axis: '), dd_y_var], className=\"six columns\")"
   ]
  },
  {
   "cell_type": "code",
   "execution_count": null,
   "metadata": {},
   "outputs": [],
   "source": [
    "#create the layout of the application\n",
    "app.layout = html.Div(children=[\n",
    "        html.H1('Adding interactive controls'),\n",
    "        html.H2('Interactive scatter plot example'),\n",
    "        html.Div(\n",
    "                children=[div_x_var, div_y_var],\n",
    "                className=\"row\"\n",
    "                ), \n",
    "        dcc.Graph(id='scatter')\n",
    "        ])"
   ]
  },
  {
   "cell_type": "code",
   "execution_count": null,
   "metadata": {},
   "outputs": [],
   "source": [
    "#Create the callback function for interactivity\n",
    "@app.callback(\n",
    "        Output(component_id='scatter', component_property='figure'),\n",
    "        [Input(component_id='x-var', component_property='value'), Input(component_id='y-var', component_property='value')])\n",
    "def scatter_plot(x_col, y_col):\n",
    "    trace = go.Scatter(\n",
    "            x = df[x_col],\n",
    "            y = df[y_col],\n",
    "            mode = 'markers'\n",
    "            )\n",
    "    \n",
    "    layout = go.Layout(\n",
    "            title = 'Scatter plot',\n",
    "            xaxis = dict(title = x_col.upper()),\n",
    "            yaxis = dict(title = y_col.upper())\n",
    "            )\n",
    "    \n",
    "    output_plot = go.Figure(\n",
    "            data = [trace],\n",
    "            layout = layout\n",
    "            )\n",
    "    \n",
    "    return output_plot"
   ]
  },
  {
   "cell_type": "code",
   "execution_count": null,
   "metadata": {},
   "outputs": [],
   "source": [
    "# start the local server that will serve the application:\n",
    "if __name__ == '__main__':\n",
    "    app.run_server(debug=False) "
   ]
  },
  {
   "cell_type": "code",
   "execution_count": null,
   "metadata": {},
   "outputs": [],
   "source": []
  },
  {
   "cell_type": "code",
   "execution_count": null,
   "metadata": {},
   "outputs": [],
   "source": []
  },
  {
   "cell_type": "code",
   "execution_count": null,
   "metadata": {},
   "outputs": [],
   "source": []
  },
  {
   "cell_type": "code",
   "execution_count": null,
   "metadata": {},
   "outputs": [],
   "source": []
  },
  {
   "cell_type": "code",
   "execution_count": null,
   "metadata": {},
   "outputs": [],
   "source": []
  },
  {
   "cell_type": "code",
   "execution_count": null,
   "metadata": {},
   "outputs": [],
   "source": []
  },
  {
   "cell_type": "code",
   "execution_count": null,
   "metadata": {},
   "outputs": [],
   "source": []
  }
 ],
 "metadata": {
  "kernelspec": {
   "display_name": "Python 3",
   "language": "python",
   "name": "python3"
  },
  "language_info": {
   "codemirror_mode": {
    "name": "ipython",
    "version": 3
   },
   "file_extension": ".py",
   "mimetype": "text/x-python",
   "name": "python",
   "nbconvert_exporter": "python",
   "pygments_lexer": "ipython3",
   "version": "3.7.6"
  }
 },
 "nbformat": 4,
 "nbformat_minor": 4
}
