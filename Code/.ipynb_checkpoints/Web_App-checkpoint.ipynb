{
 "cells": [
  {
   "cell_type": "markdown",
   "metadata": {},
   "source": [
    "### Building the web application"
   ]
  },
  {
   "cell_type": "code",
   "execution_count": 1,
   "metadata": {},
   "outputs": [],
   "source": [
    "#import necessary libraries\n",
    "import dash\n",
    "import dash_core_components as dcc\n",
    "import dash_html_components as html\n",
    "from dash.dependencies import Input, Output\n",
    "import plotly.graph_objs as go\n",
    "import joblib\n",
    "import numpy as np\n",
    "import pandas as pd\n",
    "import warnings\n",
    "warnings.filterwarnings('ignore')"
   ]
  },
  {
   "cell_type": "code",
   "execution_count": 2,
   "metadata": {},
   "outputs": [],
   "source": [
    "#Import dataset\n",
    "diamonds = pd.read_csv('../Data/diamonds.csv')"
   ]
  },
  {
   "cell_type": "code",
   "execution_count": 3,
   "metadata": {},
   "outputs": [],
   "source": [
    "#create the app instance\n",
    "app = dash.Dash(__name__)"
   ]
  },
  {
   "cell_type": "code",
   "execution_count": null,
   "metadata": {},
   "outputs": [],
   "source": []
  },
  {
   "cell_type": "code",
   "execution_count": null,
   "metadata": {},
   "outputs": [],
   "source": [
    "#import an external CSS file : for our app to look a bit nicer\n",
    "app.css.append_css({\n",
    "    'external_url': 'https://codepen.io/chriddyp/pen/bWLwgP.css'\n",
    "})"
   ]
  },
  {
   "cell_type": "markdown",
   "metadata": {},
   "source": [
    "### 4. Load the trained objects"
   ]
  },
  {
   "cell_type": "code",
   "execution_count": 4,
   "metadata": {},
   "outputs": [],
   "source": [
    "model = joblib.load('diamond-prices-model1.joblib')\n",
    "pca = joblib.load('pca1.joblib')\n",
    "scaler = joblib.load('scaler1.joblib')"
   ]
  },
  {
   "cell_type": "markdown",
   "metadata": {},
   "source": [
    "### 5. Build the input components and their respective divs\n",
    " We will use input boxes to input the values of numerical features and drop-down menus for the categorical ones. We will place each of the nine inputs (6 numerical & 3 categorical) in its own four-column div."
   ]
  },
  {
   "cell_type": "code",
   "execution_count": 5,
   "metadata": {},
   "outputs": [],
   "source": [
    "numerical_features = ['price','carat','depth','table','x','y','z']\n",
    "options_dropdown = [{'label':x.upper(), 'value':x} for x in numerical_features]\n",
    "\n",
    "dd_x_var = dcc.Dropdown(\n",
    "        id='x-var',\n",
    "        options = options_dropdown,\n",
    "        value = 'carat'\n",
    "        )\n",
    "\n",
    "div_x_var = html.Div(\n",
    "        children=[html.H4('Variable for x axis: '), dd_x_var],\n",
    "        className=\"six columns\"\n",
    "        )\n",
    "\n",
    "dd_y_var = dcc.Dropdown(\n",
    "        id='y-var',\n",
    "        options = options_dropdown,\n",
    "        value = 'price'\n",
    "        ) \n",
    "\n",
    "div_y_var = html.Div(\n",
    "        children=[html.H4('Variable for y axis: '), dd_y_var],\n",
    "        className=\"six columns\"\n",
    "        )"
   ]
  },
  {
   "cell_type": "code",
   "execution_count": 6,
   "metadata": {},
   "outputs": [],
   "source": [
    "### 1. For numerical features\n",
    "\n",
    "## Div for carat\n",
    "input_carat = dcc.Input(\n",
    "    id='carat',\n",
    "    type='numeric',\n",
    "    value=0.7)\n",
    "\n",
    "div_carat = html.Div(\n",
    "        children=[html.H3('Carat:'), input_carat],\n",
    "        className=\"four columns\"\n",
    "        )\n",
    "\n",
    "## Div for depth\n",
    "input_depth = dcc.Input(\n",
    "    id='depth',\n",
    "    placeholder='',\n",
    "    type='numeric',\n",
    "    value=60)\n",
    "\n",
    "div_depth = html.Div(\n",
    "        children=[html.H3('Depth:'), input_depth],\n",
    "        className=\"four columns\"\n",
    "        )\n",
    "\n",
    "## Div for table\n",
    "input_table = dcc.Input(\n",
    "    id='table', \n",
    "    placeholder='',\n",
    "    type='numeric',\n",
    "    value=60)\n",
    "\n",
    "div_table = html.Div(\n",
    "        children=[html.H3('Table:'), input_table],\n",
    "        className=\"four columns\"\n",
    "        )\n",
    "\n",
    "## Div for x\n",
    "input_x = dcc.Input(\n",
    "    id='x', \n",
    "    placeholder='',\n",
    "    type='numeric',\n",
    "    value=5)\n",
    "\n",
    "div_x = html.Div(\n",
    "        children=[html.H3('x value:'), input_x],\n",
    "        className=\"four columns\"\n",
    "        )\n",
    "\n",
    "## Div for y\n",
    "input_y = dcc.Input(\n",
    "    id='y',\n",
    "    placeholder='',\n",
    "    type='numeric',\n",
    "    value=5)\n",
    "\n",
    "div_y = html.Div(\n",
    "        children=[html.H3('y value:'), input_y],\n",
    "        className=\"four columns\"\n",
    "        )\n",
    "\n",
    "## Div for z\n",
    "input_z = dcc.Input(\n",
    "    id='z', \n",
    "    placeholder='',\n",
    "    type='numeric',\n",
    "    value=3)\n",
    "\n",
    "div_z = html.Div(\n",
    "        children=[html.H3('z value: '), input_z],\n",
    "        className=\"four columns\"\n",
    "        )\n",
    "\n",
    "### 2. For categorical features\n",
    "\n",
    "## Div for cut\n",
    "cut_values = ['Fair', 'Good', 'Ideal', 'Premium', 'Very Good']\n",
    "cut_options = [{'label': x, 'value': x} for x in cut_values]\n",
    "input_cut = dcc.Dropdown(\n",
    "    id='cut',\n",
    "    options = cut_options,\n",
    "    value = 'Ideal'\n",
    "    )\n",
    "\n",
    "div_cut = html.Div(\n",
    "        children=[html.H3('Cut:'), input_cut],\n",
    "        className=\"four columns\"\n",
    "        )\n",
    "\n",
    "## Div for color\n",
    "color_values = ['D', 'E', 'F', 'G', 'H', 'I', 'J']\n",
    "color_options = [{'label': x, 'value': x} for x in color_values]\n",
    "input_color = dcc.Dropdown(\n",
    "    id='color', \n",
    "    options = color_options,\n",
    "    value = 'G'\n",
    "    )\n",
    "\n",
    "div_color = html.Div(\n",
    "        children=[html.H3('Color:'), input_color],\n",
    "        className=\"four columns\"\n",
    "        )\n",
    "\n",
    "## Div for clarity\n",
    "clarity_values = ['I1', 'IF', 'SI1', 'SI2', 'VS1', 'VS2', 'VVS1', 'VVS2']\n",
    "clarity_options = [{'label': x, 'value': x} for x in clarity_values]\n",
    "input_clarity = dcc.Dropdown(\n",
    "    id='clarity', \n",
    "    options = clarity_options,\n",
    "    value = 'SI1'\n",
    "    )\n",
    "\n",
    "div_clarity = html.Div(\n",
    "        children=[html.H3('Clarity:'), input_clarity],\n",
    "        className=\"four columns\"\n",
    "        )"
   ]
  },
  {
   "cell_type": "code",
   "execution_count": 7,
   "metadata": {},
   "outputs": [],
   "source": [
    "#### Further group the nine inputs into three sub-groups & use a div for each group:\n",
    "## Div for numerical characteristics\n",
    "div_numerical = html.Div(\n",
    "        children = [div_carat, div_depth, div_table],\n",
    "       className=\"row\"\n",
    "        )\n",
    "\n",
    "## Div for dimensions\n",
    "div_dimensions = html.Div(\n",
    "        children = [div_x, div_y, div_z],\n",
    "        className=\"row\"\n",
    "        )\n",
    "\n",
    "## Div for categorical features\n",
    "div_categorical = html.Div(\n",
    "        children = [div_cut, div_color, div_clarity],\n",
    "        className=\"row\"\n",
    "        )"
   ]
  },
  {
   "cell_type": "markdown",
   "metadata": {},
   "source": [
    "### 6. Build the prediction function"
   ]
  },
  {
   "cell_type": "code",
   "execution_count": 8,
   "metadata": {},
   "outputs": [],
   "source": [
    "def get_prediction(carat, depth, table, x, y, z, cut, color, clarity):\n",
    "    '''takes the inputs from the user and produces the price prediction'''\n",
    "    \n",
    "    cols = ['carat', 'depth', 'table',\n",
    "            'cut_Good', 'cut_Ideal', 'cut_Premium', 'cut_Very Good',\n",
    "            'color_E', 'color_F', 'color_G', 'color_H', 'color_I', 'color_J',\n",
    "            'clarity_IF','clarity_SI1', 'clarity_SI2', 'clarity_VS1', 'clarity_VS2','clarity_VVS1', 'clarity_VVS2',\n",
    "            'dim_index']\n",
    "\n",
    "    cut_dict = {x: 'cut_' + x for x in cut_values[1:]}\n",
    "    color_dict = {x: 'color_' + x for x in color_values[1:]}\n",
    "    clarity_dict = {x: 'clarity_' + x for x in clarity_values[1:]}\n",
    "    \n",
    "    ## produce a dataframe with a single row of zeros\n",
    "    df = pd.DataFrame(data = np.zeros((1,len(cols))), columns = cols)\n",
    "    \n",
    "    ## get the numeric characteristics\n",
    "    df.loc[0,'carat'] = carat\n",
    "    df.loc[0,'depth'] = depth\n",
    "    df.loc[0,'table'] = table\n",
    "    \n",
    "    ## transform dimensions into a single dim_index using PCA\n",
    "    dims_df = pd.DataFrame(data=[[x, y, z]], columns=['x','y','z'])\n",
    "    df.loc[0,'dim_index'] = pca.transform(dims_df).flatten()[0]\n",
    "    \n",
    "    ## Use the one-hot encoding for the categorical features\n",
    "    if cut!='Fair':\n",
    "        df.loc[0, cut_dict[cut]] = 1\n",
    "    \n",
    "    if color!='D':\n",
    "        df.loc[0, color_dict[color]] = 1\n",
    "    \n",
    "    if clarity != 'I1':\n",
    "        df.loc[0, clarity_dict[clarity]] = 1\n",
    "    \n",
    "    ## Scale the numerical features using the trained scaler\n",
    "    numerical_features = ['carat', 'depth', 'table', 'dim_index']\n",
    "    df.loc[:,numerical_features] = scaler.transform(df.loc[:,numerical_features])\n",
    "    \n",
    "    ## Get the predictions using our trained neural network\n",
    "    prediction = model.predict(df.values).flatten()[0]\n",
    "    \n",
    "    ## Transform the log-prices to prices\n",
    "    prediction = np.exp(prediction)\n",
    "   \n",
    "    return int(prediction)\n",
    "    "
   ]
  },
  {
   "cell_type": "markdown",
   "metadata": {},
   "source": [
    "### 7. Create the layout of the application"
   ]
  },
  {
   "cell_type": "code",
   "execution_count": 9,
   "metadata": {},
   "outputs": [],
   "source": [
    "# for histogram\n",
    "trace = go.Histogram(\n",
    "    x = diamonds['price']\n",
    "    )\n",
    "\n",
    "layout = go.Layout(\n",
    "    title = 'Diamond Prices',\n",
    "    xaxis = dict(title='Price'),\n",
    "    yaxis = dict(title='Count')\n",
    "    )\n",
    "\n",
    "figure = go.Figure(\n",
    "    data = [trace],\n",
    "    layout = layout\n",
    "    )"
   ]
  },
  {
   "cell_type": "code",
   "execution_count": 10,
   "metadata": {},
   "outputs": [],
   "source": [
    "## App layout\n",
    "app.layout = html.Div([\n",
    "        html.H1('IDR Predict diamond prices'),\n",
    "        \n",
    "        html.H2('Enter the diamond characteristics to get the predicted price'),\n",
    "        \n",
    "        html.Div(\n",
    "                children=[div_numerical, div_dimensions, div_categorical]\n",
    "                ),\n",
    "        html.H1(id='output',\n",
    "                style={'margin-top': '50px', 'text-align': 'center'}),\n",
    "        html.H3('Interactive scatter plot of the numerical features'),\n",
    "        html.P('Select your x and y features to view plot'),\n",
    "        html.Div(\n",
    "                children=[div_x_var, div_y_var],\n",
    "                className=\"row\"\n",
    "                ), \n",
    "        dcc.Graph(id='scatter'),\n",
    "        html.H3('Distribution of diamond prices'),\n",
    "        html.P('This is the original distribution of the diamond prices.'), \n",
    "        dcc.Graph(id='histogram', figure=figure)\n",
    "        ])"
   ]
  },
  {
   "cell_type": "markdown",
   "metadata": {},
   "source": [
    "### 8.  Build the decorator (callback)"
   ]
  },
  {
   "cell_type": "code",
   "execution_count": 11,
   "metadata": {},
   "outputs": [],
   "source": [
    "#for predictor\n",
    "predictors = ['carat', 'depth', 'table', 'x', 'y', 'z', 'cut', 'color', 'clarity']\n",
    "@app.callback(\n",
    "        Output('output', 'children'),\n",
    "        [Input(x, 'value') for x in predictors])\n",
    "\n",
    "def show_prediction(carat, depth, table, x, y, z, cut, color, clarity): \n",
    "    pred = get_prediction(carat, depth, table, x, y, z, cut, color, clarity)\n",
    "    return str(\"Predicted Price: {:,}\".format(pred))"
   ]
  },
  {
   "cell_type": "code",
   "execution_count": 12,
   "metadata": {},
   "outputs": [],
   "source": [
    "# for scatter plot\n",
    "@app.callback(\n",
    "        Output(component_id='scatter', component_property='figure'),\n",
    "        [Input(component_id='x-var', component_property='value'), Input(component_id='y-var', component_property='value')])\n",
    "\n",
    "\n",
    "def scatter_plot(x_col, y_col):\n",
    "    trace = go.Scatter(\n",
    "            x = diamonds[x_col],\n",
    "            y = diamonds[y_col],\n",
    "            mode = 'markers'\n",
    "            )\n",
    "    \n",
    "    layout = go.Layout(\n",
    "            title = 'Scatter plot',\n",
    "            xaxis = dict(title = x_col.upper()),\n",
    "            yaxis = dict(title = y_col.upper())\n",
    "            )\n",
    "    \n",
    "    output_plot = go.Figure(\n",
    "            data = [trace],\n",
    "            layout = layout\n",
    "            )\n",
    "    \n",
    "    return output_plot"
   ]
  },
  {
   "cell_type": "markdown",
   "metadata": {},
   "source": [
    "### 9. Code to run the server"
   ]
  },
  {
   "cell_type": "code",
   "execution_count": 13,
   "metadata": {
    "scrolled": false
   },
   "outputs": [
    {
     "name": "stdout",
     "output_type": "stream",
     "text": [
      "Dash is running on http://127.0.0.1:8050/\n",
      "\n",
      " * Serving Flask app \"__main__\" (lazy loading)\n",
      " * Environment: production\n",
      "   WARNING: This is a development server. Do not use it in a production deployment.\n",
      "   Use a production WSGI server instead.\n",
      " * Debug mode: off\n"
     ]
    },
    {
     "name": "stderr",
     "output_type": "stream",
     "text": [
      " * Running on http://127.0.0.1:8050/ (Press CTRL+C to quit)\n",
      "127.0.0.1 - - [02/Jun/2021 02:24:15] \"\u001b[37mGET / HTTP/1.1\u001b[0m\" 200 -\n",
      "127.0.0.1 - - [02/Jun/2021 02:24:16] \"\u001b[37mGET /_dash-dependencies HTTP/1.1\u001b[0m\" 200 -\n",
      "127.0.0.1 - - [02/Jun/2021 02:24:16] \"\u001b[37mGET /_favicon.ico?v=1.18.1 HTTP/1.1\u001b[0m\" 200 -\n",
      "127.0.0.1 - - [02/Jun/2021 02:24:16] \"\u001b[37mGET /_dash-layout HTTP/1.1\u001b[0m\" 200 -\n",
      "127.0.0.1 - - [02/Jun/2021 02:24:16] \"\u001b[37mPOST /_dash-update-component HTTP/1.1\u001b[0m\" 200 -\n",
      "127.0.0.1 - - [02/Jun/2021 02:24:16] \"\u001b[37mPOST /_dash-update-component HTTP/1.1\u001b[0m\" 200 -\n"
     ]
    }
   ],
   "source": [
    "if __name__ == '__main__':\n",
    "    app.run_server(debug=False) #setting debug as false instead of true works"
   ]
  },
  {
   "cell_type": "code",
   "execution_count": null,
   "metadata": {},
   "outputs": [],
   "source": []
  },
  {
   "cell_type": "code",
   "execution_count": null,
   "metadata": {},
   "outputs": [],
   "source": []
  },
  {
   "cell_type": "code",
   "execution_count": null,
   "metadata": {},
   "outputs": [],
   "source": []
  }
 ],
 "metadata": {
  "kernelspec": {
   "display_name": "Python 3",
   "language": "python",
   "name": "python3"
  },
  "language_info": {
   "codemirror_mode": {
    "name": "ipython",
    "version": 3
   },
   "file_extension": ".py",
   "mimetype": "text/x-python",
   "name": "python",
   "nbconvert_exporter": "python",
   "pygments_lexer": "ipython3",
   "version": "3.7.6"
  }
 },
 "nbformat": 4,
 "nbformat_minor": 4
}
